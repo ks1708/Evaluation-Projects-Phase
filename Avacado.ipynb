https://colab.research.google.com/drive/1ruh1oq7jReJiddm2FyviuttoCj7R3ZsF?usp=sharing
